{
 "cells": [
  {
   "cell_type": "code",
   "execution_count": 12,
   "metadata": {},
   "outputs": [
    {
     "data": {
      "text/plain": [
       "{'akuof': array([False, False, False, False, False, False, False, False, False,\n",
       "        False]),\n",
       " 'byyii': array([False, False, False, False, False, False, False, False, False,\n",
       "        False]),\n",
       " 'dlust': array([False, False, False, False, False, False, False, False, False,\n",
       "        False]),\n",
       " 'xdozp': array([False, False, False, False, False, False, False, False, False,\n",
       "        False]),\n",
       " 'luncl': array([False, False, False, False, False, False, False, False, False,\n",
       "        False]),\n",
       " 'qzfyo': array([False, False, False, False, False, False, False, False, False,\n",
       "        False]),\n",
       " 'vxglq': array([False, False, False, False, False, False, False, False, False,\n",
       "        False]),\n",
       " 'xveqd': array([False, False, False, False, False, False, False, False, False,\n",
       "        False]),\n",
       " 'tfeej': array([False, False, False, False, False, False, False, False, False,\n",
       "        False]),\n",
       " 'sunhp': array([False, False, False, False, False, False, False, False, False,\n",
       "        False])}"
      ]
     },
     "execution_count": 12,
     "metadata": {},
     "output_type": "execute_result"
    }
   ],
   "source": [
    "from collections import defaultdict\n",
    "import numpy as np\n",
    "import pandas as pd\n",
    "\n",
    "file = \"c_coarse.in.txt\"\n",
    "data = open(file).read().split('\\n')\n",
    "dic = {}\n",
    "for item in data[1:]:\n",
    "    list_ig = item.split(' ')[1:]\n",
    "    for ig in list_ig :\n",
    "        if ig not in dic.keys():\n",
    "            dic[ig] = np.full(int(data[0]), None, dtype=np.bool_)\n",
    "\n",
    "for i,item in enumerate(data[2::2]):\n",
    "    list_ig = item.split(' ')[1:]\n",
    "    for ig in list_ig :\n",
    "        dic[ig][i] = False\n",
    "df = pd.DataFrame(dic)\n",
    "df"
   ]
  },
  {
   "cell_type": "markdown",
   "metadata": {},
   "source": []
  }
 ],
 "metadata": {
  "interpreter": {
   "hash": "31f2aee4e71d21fbe5cf8b01ff0e069b9275f58929596ceb00d14d90e3e16cd6"
  },
  "kernelspec": {
   "display_name": "Python 3.9.1 64-bit",
   "language": "python",
   "name": "python3"
  },
  "language_info": {
   "codemirror_mode": {
    "name": "ipython",
    "version": 3
   },
   "file_extension": ".py",
   "mimetype": "text/x-python",
   "name": "python",
   "nbconvert_exporter": "python",
   "pygments_lexer": "ipython3",
   "version": "3.9.1"
  },
  "orig_nbformat": 4
 },
 "nbformat": 4,
 "nbformat_minor": 2
}
